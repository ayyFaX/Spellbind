{
  "nbformat": 4,
  "nbformat_minor": 0,
  "metadata": {
    "colab": {
      "provenance": [],
      "authorship_tag": "ABX9TyM5wr50xNC+fReeCuZvbpwi",
      "include_colab_link": true
    },
    "kernelspec": {
      "name": "python3",
      "display_name": "Python 3"
    },
    "language_info": {
      "name": "python"
    }
  },
  "cells": [
    {
      "cell_type": "markdown",
      "metadata": {
        "id": "view-in-github",
        "colab_type": "text"
      },
      "source": [
        "<a href=\"https://colab.research.google.com/github/ayyFaX/Spellbind/blob/main/MyFirstColabNotebook.ipynb\" target=\"_parent\"><img src=\"https://colab.research.google.com/assets/colab-badge.svg\" alt=\"Open In Colab\"/></a>"
      ]
    },
    {
      "cell_type": "code",
      "execution_count": null,
      "metadata": {
        "colab": {
          "base_uri": "https://localhost:8080/"
        },
        "id": "_7mLXRfxioSC",
        "outputId": "dbcd4617-d183-4ac7-c5e5-9291d86979b4"
      },
      "outputs": [
        {
          "output_type": "stream",
          "name": "stdout",
          "text": [
            "Mon Sep 30 15:29:26 2024\n"
          ]
        }
      ],
      "source": [
        "import time\n",
        "print(time.ctime())"
      ]
    },
    {
      "cell_type": "code",
      "source": [
        "time.sleep(5)\n",
        "print (time.ctime())"
      ],
      "metadata": {
        "colab": {
          "base_uri": "https://localhost:8080/"
        },
        "id": "IdhFqbx5jCAz",
        "outputId": "8a073e06-73b5-4d08-fd83-f8f5415dfd93"
      },
      "execution_count": null,
      "outputs": [
        {
          "output_type": "stream",
          "name": "stdout",
          "text": [
            "Mon Sep 30 15:29:31 2024\n"
          ]
        }
      ]
    },
    {
      "cell_type": "markdown",
      "source": [
        "This is **bold**\n",
        "This is *italic*\n",
        "This is ~strikethrough~\n"
      ],
      "metadata": {
        "id": "IPb7jm74jnS9"
      }
    },
    {
      "cell_type": "markdown",
      "source": [
        "$\\sqrt{3x-1}+(1+x)^2$\n"
      ],
      "metadata": {
        "id": "TZTYUTCyjxTi"
      }
    },
    {
      "cell_type": "markdown",
      "source": [
        "$e^x = \\sum_{i = 0}^\\infty \\frac{1}{i!}x^i$"
      ],
      "metadata": {
        "id": "0cPdT4_nkAHf"
      }
    }
  ]
}